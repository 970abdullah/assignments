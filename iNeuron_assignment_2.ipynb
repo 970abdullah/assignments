{
 "cells": [
  {
   "cell_type": "code",
   "execution_count": 1,
   "id": "bb1033a8",
   "metadata": {},
   "outputs": [
    {
     "name": "stdout",
     "output_type": "stream",
     "text": [
      "*\n",
      "**\n",
      "***\n",
      "****\n",
      "*****\n",
      "******\n",
      "*******\n",
      "********\n",
      "*********\n",
      "**********\n",
      "*********\n",
      "********\n",
      "*******\n",
      "******\n",
      "*****\n",
      "****\n",
      "***\n",
      "**\n",
      "*\n"
     ]
    }
   ],
   "source": [
    "def pattern(n):\n",
    "    for i in range(n):\n",
    "        for j in range(i+1):\n",
    "            print(\"*\",end=\"\")\n",
    "        print(\"\")\n",
    "    for i in range(n,-1,-1):\n",
    "        for j in range(i+1):\n",
    "            print(\"*\",end=\"\")\n",
    "        print(\"\")\n",
    "pattern(9)"
   ]
  },
  {
   "cell_type": "code",
   "execution_count": 2,
   "id": "5adf48a9",
   "metadata": {},
   "outputs": [
    {
     "name": "stdout",
     "output_type": "stream",
     "text": [
      "enter your word:Niveditha Reddy\n"
     ]
    },
    {
     "data": {
      "text/plain": [
       "'yddeR ahtideviN'"
      ]
     },
     "execution_count": 2,
     "metadata": {},
     "output_type": "execute_result"
    }
   ],
   "source": [
    "str=input(\"enter your word:\")\n",
    "def reverse(str):\n",
    "    str=str[::-1]\n",
    "    return str\n",
    "reverse(str)"
   ]
  },
  {
   "cell_type": "code",
   "execution_count": null,
   "id": "4d9e89fa",
   "metadata": {},
   "outputs": [],
   "source": []
  }
 ],
 "metadata": {
  "kernelspec": {
   "display_name": "Python 3",
   "language": "python",
   "name": "python3"
  },
  "language_info": {
   "codemirror_mode": {
    "name": "ipython",
    "version": 3
   },
   "file_extension": ".py",
   "mimetype": "text/x-python",
   "name": "python",
   "nbconvert_exporter": "python",
   "pygments_lexer": "ipython3",
   "version": "3.8.8"
  }
 },
 "nbformat": 4,
 "nbformat_minor": 5
}
